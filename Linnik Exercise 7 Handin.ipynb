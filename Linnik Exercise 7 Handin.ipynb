{
 "cells": [
  {
   "cell_type": "markdown",
   "metadata": {},
   "source": [
    "# Exercise 7\n",
    "Benjamin Linnik\n"
   ]
  },
  {
   "cell_type": "markdown",
   "metadata": {},
   "source": [
    "# Instructions\n",
    "\n",
    "1. Use 64-bit machine with Python 3.6.4 or similar\n",
    "2. run 'python3 standalone.py' from the directory where 'best_est.pkl' and 'comp_testX.dat' are located\n",
    "3. Install needed packages if needed: scipy, numpy, sklearn and others if asked with \"pip3 install 'packagename'\"\n",
    "4. After running the standalone version a file named 'comp_testY_Linnik.dat' should appear in the same folder. You can find the predicted values for y in this file.\n",
    "5. Have fun :)\n",
    "\n",
    "Alternativally, if you want, you can run this Jupyter notebook with Python3.\n",
    "\n",
    "Download all the source here:\n"
   ]
  },
  {
   "cell_type": "markdown",
   "metadata": {},
   "source": [
    "# Description and storytelling"
   ]
  },
  {
   "cell_type": "markdown",
   "metadata": {},
   "source": [
    "## Theory\n",
    "\n",
    "Gradient Boosted Regression Trees (GBRT) or shorter Gradient Boosting is a flexible non-parametric statistical learning technique for classification and regression. Scikit-learn is a library that provides a variety of both supervised and unsupervised machine learning techniques as well as utilities for common tasks such as model selection, feature extraction, and feature selection. Scikit-learn provides two estimators for gradient boosting: GradientBoostingClassifier and GradientBoostingRegressor. Both are located in the sklearn.ensemble package.\n",
    "\n",
    "### Boosting\n",
    "\n",
    "[Gradient boosting](https://en.wikipedia.org/wiki/Gradient_boosting) is a machine learning technique for regression and classification problems, which produces a prediction model in the form of an ensemble of weak prediction models, typically decision trees. It builds the model in a stage-wise fashion like other boosting methods do, and it generalizes them by allowing optimization of an arbitrary differentiable loss function.\n",
    "\n",
    "The purpose of boosting is to sequentially apply the weak classification algorithm to repeatedly modified versions of the data, thereby producing a sequence of weak classifiers $G_m(x)$, $m = 1, 2, ... , M$.\n",
    "### Stagewise Additive Modeling\n",
    "\n",
    "Boosting builds an additive model:\n",
    "\n",
    "$$F(x) = \\sum_{m=1}^M \\beta_m b(x; \\gamma_m)$$\n",
    "\n",
    "where $b(x; \\gamma_m)$ is a tree and $\\gamma_m$ parameterizes the splits.  With boosting, the parameters, $(\\beta_m, \\gamma_m)$ are fit in a *stagewise* fashion.  This slows the process down, and overfits less quickly.\n",
    "\n",
    "### Gradient Boosting Algorithm\n",
    "\n",
    "In pseudocode:\n",
    "\n",
    "1. Fit a model to the data, $F_1(x) = y$\n",
    "2. Fit a model to the residuals, $h_1(x) = y - F_1(x)$\n",
    "3. Create a new model, $F_2(x) = F_1(x) + h_1(x)$\n",
    "\n",
    "It’s not hard to see how we can generalize this idea by inserting more models that correct the errors of the previous model. Specifically,\n",
    "\n",
    "$$F(x) = F_1(x) \\mapsto F_2(x) = F_1(x) + h_1(x) \\dots \\mapsto F_M(x) = F_{M-1}(x) + h_{M-1}(x)$$\n",
    "where $F_1(x)$ is an initial model fit to y\n",
    "\n",
    "Since we initialize the procedure by fitting $F_1(x)$, our task at each step is to find $h_m(x) = y - F_m(x)$.\n",
    "\n",
    "$h_m$ is just a “model”. Nothing in our definition requires it to be a tree-based model. This is one of the broader concepts and advantages to gradient boosting. It’s really just a framework for iteratively improving any weak learner. So in theory, a well coded gradient boosting module would allow you to “plug in” various classes of weak learners at your disposal. In practice however, $h_m$ is almost always a tree based learner, it’s fine to interpret $h_m$ as a regression tree.\n",
    "\n",
    "\n",
    "Below you can see the Gradient Boosting Algorithm at work, the very first approximation takes just the average target value as a constant (not shown in the graphic). In the next step dicision trees devide the data into smaller regions and fit other constant functions to their region correspondingly.\n",
    "![title](img/example.png)"
   ]
  },
  {
   "cell_type": "markdown",
   "metadata": {},
   "source": [
    "### Data analysis\n",
    "First let's take a look at the training data:\n",
    "\n",
    "On the y axis you can see the targets and on the x axis x1, x2 and so forth are displayed.\n",
    "![title](img/XY.png)\n",
    "Holy crap... This doesn't look very promising, no structure at all.\n",
    "\n",
    "Let's take a look at the distribution of the x data:\n",
    "![title](img/ErklVar.png)\n",
    "You can see the distribution of the input data x as boxplots. The the medians, the 50 % quantiles, the 95 % whiskers and the outtakers are shown. \n",
    "\n",
    "Wow, scattered all over the place and quite broad in their distribution. \n",
    "\n",
    "But maybe we can find some linear correlation, let's take a look at the correlation matrix:\n",
    "![title](img/CorrMatrix2.png)\n",
    "Plotted are the input variables and the targets against each other. \n",
    "\n",
    "So many points, looks messy - no tooo clear structures. Let's look at the numbers, here you can find the numerical correlation matrix:\n",
    "![title](img/CorrMatrix3.png)\n",
    "Too bad, no clear correlation between all the inputs and outputs...\n",
    "\n",
    "### But hey, no reason to be sad, let's try do make some data prediction :)"
   ]
  },
  {
   "cell_type": "markdown",
   "metadata": {},
   "source": [
    "Let's come straight to the result. This is the code which has to be put into the same folder as the 'comp_testX.dat' file"
   ]
  },
  {
   "cell_type": "markdown",
   "metadata": {
    "collapsed": true
   },
   "source": [
    "# Approuch No 13\n",
    "\n",
    "All the Baysian approuches by hand, written by me - sucked...\n",
    "\n",
    "Use library instead, like others script kiddies"
   ]
  },
  {
   "cell_type": "code",
   "execution_count": 1,
   "metadata": {},
   "outputs": [
    {
     "name": "stderr",
     "output_type": "stream",
     "text": [
      "D:\\ProgramData\\Anaconda3\\lib\\site-packages\\sklearn\\cross_validation.py:41: DeprecationWarning: This module was deprecated in version 0.18 in favor of the model_selection module into which all the refactored classes and functions are moved. Also note that the interface of the new CV iterators are different from that of this module. This module will be removed in 0.20.\n",
      "  \"This module will be removed in 0.20.\", DeprecationWarning)\n"
     ]
    }
   ],
   "source": [
    "from sklearn.ensemble import GradientBoostingRegressor # Gradient Boosting method\n",
    "from sklearn.model_selection import train_test_split, GridSearchCV, cross_val_score, cross_val_predict # used for cross validation and parameter search\n",
    "from sklearn.cross_validation import ShuffleSplit # used for corss-validation, creates splits of data\n",
    "from sklearn.externals import joblib\n",
    "import numpy as np # numerical python lib\n",
    "from numpy import genfromtxt # get gext from file lib\n",
    "import matplotlib.pyplot as plt # plotting lib\n",
    "%matplotlib inline\n",
    "import csv # make data import from file easier"
   ]
  },
  {
   "cell_type": "markdown",
   "metadata": {},
   "source": [
    "Here we define the functions needed to get and visualize the data"
   ]
  },
  {
   "cell_type": "code",
   "execution_count": 2,
   "metadata": {
    "collapsed": true
   },
   "outputs": [],
   "source": [
    "def read_in_file(s_path):\n",
    "    \"\"\"\n",
    "     Args:\n",
    "        s_path: string with full path to be readin        \n",
    "     Return:\n",
    "        numpy array with readin data\n",
    "    \"\"\"\n",
    "    if len(s_path)==0:\n",
    "        return 0    \n",
    "    with open(s_path, 'r') as csvfile:\n",
    "        return genfromtxt(s_path, delimiter=' ')\n",
    "    \n",
    "def get_data():\n",
    "    \"\"\"\n",
    "     Return:\n",
    "        numpy arrays with readin data (targets and data samples)\n",
    "    \"\"\"\n",
    "    m_X = read_in_file('comp_trainX.dat')\n",
    "    a_t = read_in_file('comp_trainY.dat')\n",
    "    return m_X, a_t\n",
    "\n",
    "def get_test_data():\n",
    "    \"\"\"\n",
    "     Return:\n",
    "        numpy arrays with readin data (test data)\n",
    "    \"\"\"\n",
    "    m_X_test = read_in_file('comp_testX.dat')\n",
    "    return m_X_test\n",
    "    \n",
    "def plot_data(figsize=(8, 5)):\n",
    "    fig = plt.figure(figsize=figsize)\n",
    "    plt.scatter(m_X[:,1], a_t)\n",
    "    plt.scatter(m_X[:,2], a_t)\n",
    "    plt.scatter(m_X[:,3], a_t)\n",
    "    plt.scatter(m_X[:,4], a_t)\n",
    "    # Add a color bar which maps values to colors.\n",
    "    plt.show()\n",
    "    \n",
    "def plot_predictions(y_pred, figsize=(8, 5)):\n",
    "    \"\"\"\n",
    "     Args:\n",
    "        y_pred: 1-dim np array with predictions        \n",
    "    \"\"\"\n",
    "    fig, ax = plt.subplots()\n",
    "    ax.scatter(a_t, y_pred, edgecolors=(0, 0, 0))\n",
    "    ax.plot([a_t.min(), a_t.max()], [a_t.min(), a_t.max()], 'k--', lw=4)\n",
    "    ax.set_xlabel('Measured')\n",
    "    ax.set_ylabel('Predicted')\n",
    "    plt.show()"
   ]
  },
  {
   "cell_type": "markdown",
   "metadata": {},
   "source": [
    "Use the above defined functions and test if data was sucessfully read:"
   ]
  },
  {
   "cell_type": "code",
   "execution_count": 3,
   "metadata": {
    "collapsed": true
   },
   "outputs": [],
   "source": [
    "def GradientBooster(param_grid, n_jobs):\n",
    "    \"\"\"\n",
    "     Args:\n",
    "        param_grid: A parameter grid, with keys as parameter names and arrays\n",
    "                    for all the possible parameter values\n",
    "                    \n",
    "        n_jobs:     Life is too short, use parallelization\n",
    "    Return:\n",
    "        cv:         Splits of data used for cross-validation\n",
    "        model.best_estimator_: Best model found\n",
    "    \"\"\"\n",
    "    estimator = GradientBoostingRegressor() # init model which will be used\n",
    "    cv = ShuffleSplit(m_X.shape[0], n_iter=10, test_size=0.2) # Devide given training data\n",
    "    # into test data and training data, 80% is training 20% is test\n",
    "    # Shuffle 10 times, for even better estimation.\n",
    "    # 10 times: randomly drawn 80/20 splits\n",
    "    model = GridSearchCV(estimator=estimator, cv=cv, param_grid=param_grid, n_jobs=n_jobs)\n",
    "    # This takes a while... searches in the parameter grid for best estimate\n",
    "    # use error estimate as loss function to measure performance \n",
    "    model.fit(m_X, a_t) # fit\n",
    "    print(\"Best Estimator learned through GridSearch\")\n",
    "    print(model.best_estimator_) # Print all the parameters of the best model\n",
    "    return cv, model.best_estimator_"
   ]
  },
  {
   "cell_type": "markdown",
   "metadata": {},
   "source": [
    "This function brute-forces trough the given parameter space and cross-validates to find the best fitting parameters"
   ]
  },
  {
   "cell_type": "code",
   "execution_count": 11,
   "metadata": {
    "scrolled": true
   },
   "outputs": [
    {
     "data": {
      "image/png": "[encoded data removed]",
      "text/plain": [
       "<matplotlib.figure.Figure at 0x25ed82802e8>"
      ]
     },
     "metadata": {},
     "output_type": "display_data"
    }
   ],
   "source": [
    "m_X, a_t = get_data() # Call the function to get the data\n",
    "plot_data(figsize=(8, 5)) "
   ]
  },
  {
   "cell_type": "markdown",
   "metadata": {},
   "source": [
    "Beautiful plot of the data points on the x-axis and targets on the y-axis. "
   ]
  },
  {
   "cell_type": "markdown",
   "metadata": {},
   "source": [
    "# Be careful, the code below takes a minute"
   ]
  },
  {
   "cell_type": "code",
   "execution_count": 5,
   "metadata": {},
   "outputs": [
    {
     "name": "stdout",
     "output_type": "stream",
     "text": [
      "Best Estimator learned through GridSearch\n",
      "GradientBoostingRegressor(alpha=0.9, criterion='friedman_mse', init=None,\n",
      "             learning_rate=0.1, loss='ls', max_depth=5, max_features=None,\n",
      "             max_leaf_nodes=None, min_impurity_decrease=0.0,\n",
      "             min_impurity_split=None, min_samples_leaf=4,\n",
      "             min_samples_split=2, min_weight_fraction_leaf=0.0,\n",
      "             n_estimators=40, presort='auto', random_state=None,\n",
      "             subsample=0.825, verbose=0, warm_start=False)\n",
      "This took 68.23999190330505 seconds\n"
     ]
    }
   ],
   "source": [
    "import time\n",
    "start = time.time()\n",
    "param_grid={'n_estimators': np.arange(35,43), #[20,30,35,37,40,42,45,50],\n",
    "    'learning_rate': [0.09,0.10,0.11,0.12], #[0.05,0.1,0.5,1.0],# 0.05, 0.02, 0.01],\n",
    "    'max_depth':[4,5,6,7],\n",
    "    'min_samples_leaf':[2,3,4,5],\n",
    "    'subsample': [0.8,0.825,0.85,0.875,0.9] #np.linspace(0.7,1.0,4)\n",
    "           } \n",
    "n_jobs=11\n",
    "cv,best_est= GradientBooster(param_grid, n_jobs)\n",
    "end = time.time()\n",
    "print(\"This took \" + str(end - start) + \" seconds\")\n"
   ]
  },
  {
   "cell_type": "markdown",
   "metadata": {},
   "source": [
    "Above we define the parameter grid with candidates for the best tuning parameters of our model.\n",
    "\n",
    "Furthermore we set number of parallel jobs to 12 to reduce overall waiting time as the search takes a while to evaluate"
   ]
  },
  {
   "cell_type": "code",
   "execution_count": 19,
   "metadata": {},
   "outputs": [
    {
     "name": "stdout",
     "output_type": "stream",
     "text": [
      "Best Estimator Parameters\n",
      "---------------------------\n",
      "n_estimators: 40\n",
      "max_depth: 5\n",
      "Learning Rate: 0.10\n",
      "min_samples_leaf: 4\n",
      "subsample: 0.82\n",
      "\n",
      "Parameter prediction power:\n",
      "[ 0.2842403   0.25546792  0.26107353  0.1051128   0.09410545]\n",
      "\n",
      "Train R-squared: 0.976\n",
      "Accuracy: 0.799 (+/- 0.04)\n"
     ]
    }
   ],
   "source": [
    "#OK great, so we got back the best estimator parameters as follows:\n",
    "print( \"Best Estimator Parameters\")\n",
    "print(\"---------------------------\")\n",
    "print (\"n_estimators: %d\" %best_est.n_estimators)\n",
    "print (\"max_depth: %d\" %best_est.max_depth)\n",
    "print (\"Learning Rate: %.2f\" %best_est.learning_rate)\n",
    "print( \"min_samples_leaf: %d\" %best_est.min_samples_leaf)\n",
    "print (\"subsample: %.2f\" %best_est.subsample)\n",
    "print()\n",
    "print(\"Parameter prediction power:\")\n",
    "print(best_est.feature_importances_)\n",
    "print()\n",
    "print (\"Train R-squared: %.3f\" %best_est.score(m_X,a_t))\n",
    "\n",
    "# Evaluate a score by cross-validation\n",
    "scores = cross_val_score(best_est, m_X, a_t)\n",
    "print(\"Accuracy: %0.3f (+/- %0.2f)\" % (scores.mean(), scores.std() * 2))"
   ]
  },
  {
   "cell_type": "markdown",
   "metadata": {},
   "source": [
    "How do we know we are 'good'? We check it by this nice library given function \"cross_val_score\".  \n",
    "\n",
    "In the basic approach, called k-fold CV, the training set is split into k smaller sets. The following procedure is followed for each of the k \"folds\":\n",
    "\n",
    "- A model is trained using k-1 of the folds as training data;\n",
    "- the resulting model is validated on the remaining part of the data (i.e., it is used as a test set to compute a performance measure such as accuracy).\n",
    "- The performance measure reported by k-fold cross-validation is then the average of the values computed in the loop"
   ]
  },
  {
   "cell_type": "code",
   "execution_count": 20,
   "metadata": {},
   "outputs": [
    {
     "data": {
      "text/plain": [
       "['best_est.pkl']"
      ]
     },
     "execution_count": 20,
     "metadata": {},
     "output_type": "execute_result"
    }
   ],
   "source": [
    "#import pickle\n",
    "from sklearn.externals import joblib\n",
    "#savedModelStr = pickle.dumps(best_est)\n",
    "joblib.dump(best_est, 'best_est.pkl', compress = 1) "
   ]
  },
  {
   "cell_type": "markdown",
   "metadata": {},
   "source": [
    "Save the best model into a file, so it can be used later"
   ]
  },
  {
   "cell_type": "markdown",
   "metadata": {},
   "source": [
    "## How good can we fit the unseen training data"
   ]
  },
  {
   "cell_type": "markdown",
   "metadata": {},
   "source": [
    "a perfect alignment with the y=x line (german: 'Achsenhalbierende') would implicate R^2 = 1 and a perfect prediction for unseen data. This would be nice! But we have noise, so no chance"
   ]
  },
  {
   "cell_type": "code",
   "execution_count": 21,
   "metadata": {},
   "outputs": [
    {
     "data": {
      "image/png": "[encoded data removed]",
      "text/plain": [
       "<matplotlib.figure.Figure at 0x25ed73567f0>"
      ]
     },
     "metadata": {},
     "output_type": "display_data"
    }
   ],
   "source": [
    "y_pred_1 = cross_val_predict(best_est, m_X, a_t)\n",
    "plot_predictions(y_pred_1)"
   ]
  },
  {
   "cell_type": "markdown",
   "metadata": {},
   "source": [
    "## How good can we fit the seen training data"
   ]
  },
  {
   "cell_type": "code",
   "execution_count": 22,
   "metadata": {},
   "outputs": [
    {
     "data": {
      "image/png": "[encoded data removed]",
      "text/plain": [
       "<matplotlib.figure.Figure at 0x25ed75c84e0>"
      ]
     },
     "metadata": {},
     "output_type": "display_data"
    }
   ],
   "source": [
    "y_pred_2 = best_est.predict(m_X)\n",
    "plot_predictions(y_pred_2)"
   ]
  },
  {
   "cell_type": "markdown",
   "metadata": {},
   "source": [
    "# Code to generate the prediction\n",
    "\n",
    "This is what generates the prediction for the exercise"
   ]
  },
  {
   "cell_type": "code",
   "execution_count": 23,
   "metadata": {},
   "outputs": [
    {
     "name": "stdout",
     "output_type": "stream",
     "text": [
      "Written to file 'comp_testY.dat'.\n",
      "[  3.48536429e-01  -2.43400564e+00   9.80583106e-01   1.49034150e+00\n",
      "   3.91719106e-01   1.10179114e+00   1.11148125e-02  -7.42316130e-01\n",
      "   1.11196382e+00   4.13725601e-01   3.96887078e+00  -2.62414181e+00\n",
      "   5.20794031e-01   8.63211053e-01   4.43503172e-01  -2.73530164e+00\n",
      "  -1.38846798e+00   5.33833937e-01   1.43491318e-01   6.58849033e-01\n",
      "  -1.73154313e+00  -1.06300098e+00  -2.81220762e+00  -2.12938009e+00\n",
      "   8.07147017e-01  -2.04013746e+00   2.61706722e+00   2.63887640e-01\n",
      "  -2.46100776e-01   1.76956963e-01   2.01457307e+00  -4.09590658e-02\n",
      "   9.08538530e-01   2.60655413e+00  -2.98926728e+00  -2.50329590e+00\n",
      "   3.68232125e+00   5.05032491e-01   3.77952388e-01  -2.51159630e+00\n",
      "   1.31366980e+00  -3.44017777e+00   1.22090505e+00   9.61239511e-01\n",
      "   1.34390083e+00   7.07552819e-01   6.12173825e-01   2.97497620e+00\n",
      "   2.17512547e+00   1.47749312e-01   1.17719940e-01  -2.58880011e+00\n",
      "   1.32243550e+00   4.53939615e-02   1.59744531e+00   7.39244688e-01\n",
      "   2.37285056e+00  -1.33391450e+00   1.30621293e-01  -2.95609264e-01\n",
      "   8.35682697e-01   7.23356338e-01   4.41726529e-01   1.47958023e-01\n",
      "   1.64520077e+00   3.92107254e-01   9.00050014e-01   2.43822154e+00\n",
      "   3.96150502e-01  -4.38732883e-01   8.70632459e-01   2.80642105e+00\n",
      "  -3.61615650e+00  -3.09325436e-01   1.72333372e+00   6.27753250e-01\n",
      "   1.05770429e+00   6.05819227e-01   8.75743058e-01   6.62007225e-01\n",
      "   1.57152503e+00   6.27097721e-01   2.45112541e-01  -2.15533538e+00\n",
      "  -7.02199712e-01   6.96982593e-01   4.63742964e-01   2.75231784e-01\n",
      "   8.76968107e-01   7.08879254e-01   9.90775575e-01   2.22673597e+00\n",
      "   2.50994647e-01   8.34983220e-01   2.98272989e+00   8.40633036e-01\n",
      "  -3.70858787e+00   4.72944208e-01   1.31592007e-02   1.37062349e+00\n",
      "  -1.10605753e+00   9.03392195e-01   1.14137394e+00   1.18816910e+00\n",
      "   6.19437523e-01   1.57850566e+00   6.50735102e-01   6.96624818e-01\n",
      "   4.34630289e-01   9.30161719e-01   2.16303706e-01   8.98608717e-01\n",
      "   7.22336703e-01   5.97933698e-01   5.27990349e-01   1.56292230e+00\n",
      "  -2.30431118e+00   1.15590053e+00   1.02515652e+00  -1.59367285e+00\n",
      "   7.35585576e-01   1.03809548e+00  -5.12640431e-02   9.71737510e-01\n",
      "  -1.43804801e+00   9.75228399e-01   5.46322876e-01   7.31627815e-01\n",
      "  -2.37090179e+00   1.68235758e+00   2.90525733e+00   1.21681606e+00\n",
      "  -1.24925348e+00   2.70469045e+00   9.82110145e-01   9.35373076e-01\n",
      "   1.20671917e-01  -2.54634360e+00   3.93864502e-01  -3.07571741e+00\n",
      "  -1.77223497e+00   1.05865657e+00   1.13585143e+00   5.86908497e-01\n",
      "   8.19471061e-01  -1.18750475e+00  -1.99878229e+00   9.19532740e-01\n",
      "   6.56751811e-01  -3.44651592e+00  -1.56106482e+00   4.10526609e-01\n",
      "   1.50606614e-01   1.24861067e+00   9.91464695e-01   8.80860541e-01\n",
      "  -2.92716685e-01   8.87002371e-01   3.52539947e+00   3.13836911e-01\n",
      "   7.66945469e-01   1.48037927e+00   2.65725719e-01   9.21162625e-01\n",
      "   1.34322008e+00   2.94402539e-01   6.37198798e-01  -5.21595819e-01\n",
      "   7.13236902e-01  -5.51286273e-01  -1.95283804e+00   6.26512777e-01\n",
      "  -2.19309524e+00   5.07998484e-01  -2.94210073e+00   1.04711971e+00\n",
      "   1.07141551e+00   7.26309670e-01  -3.13247341e+00   5.74811921e-01\n",
      "  -3.35654866e+00   1.41956034e+00   9.74779607e-01   8.61929298e-01\n",
      "   1.32460884e+00  -2.15178331e+00   1.29603800e+00   7.82539608e-01\n",
      "   7.70273038e-01  -3.98982637e+00  -9.04556261e-01   9.57448597e-01\n",
      "  -9.17535757e-01   1.61232537e-01   3.69150102e+00   7.76875736e-01\n",
      "  -7.21522037e-01   9.47433440e-01   9.93339517e-01  -1.74371789e+00\n",
      "   1.18364725e+00   7.15826969e-01   1.52138185e+00   1.28927896e+00\n",
      "  -5.10609546e-01   7.31090593e-01  -2.47454533e+00   1.31267826e+00\n",
      "   9.67979982e-01   9.78287361e-01  -1.22174576e+00  -1.90525322e-01\n",
      "   2.35905430e+00   1.60593594e-01   1.41601868e-01  -1.53618124e-01\n",
      "   1.17828732e-01  -1.82423689e-01   4.88970599e-01   9.05976054e-01\n",
      "  -6.96382718e-02   4.27736066e-01  -1.33672425e+00   8.12806007e-01\n",
      "   3.32478610e+00   3.52534310e-01  -2.71983230e-02   1.21840052e+00\n",
      "   8.84248322e-01  -1.04940275e+00   8.00039279e-01   5.88181111e-01\n",
      "   1.00356523e+00   8.93102061e-01   1.93227051e+00   3.49626019e-01\n",
      "  -1.85762098e+00   1.29084151e-01   1.36519708e+00  -2.69144437e+00\n",
      "   1.55876849e+00   6.90860541e-01   1.29468356e+00  -3.10333978e-01\n",
      "   3.37958125e-01   2.38989938e+00   2.39534726e+00   8.07036619e-01\n",
      "   2.13991208e-01   4.64668198e-02  -2.00912351e+00  -3.85228199e-01\n",
      "   4.81783477e-01  -1.39194564e-01   1.29812042e+00   1.35438005e+00\n",
      "   1.23488659e+00   4.39946308e-01   6.64487335e-01  -4.56655202e+00\n",
      "   2.36394365e+00   1.14276810e+00   1.03026704e+00   1.45173471e+00\n",
      "   9.26968645e-01  -8.68819183e-01   3.42451033e-01  -7.99469821e-02\n",
      "  -2.01050388e-01  -2.96088067e-01  -2.34894097e+00   6.04989466e-01\n",
      "  -1.95166934e+00  -2.56682419e+00  -6.84758333e-02  -1.28876932e+00\n",
      "   4.94448556e-01   8.35993135e-01  -1.59662043e+00   3.67887399e-01\n",
      "   2.24523380e-01   9.78393645e-01   1.07600193e+00   3.27987917e+00\n",
      "   6.71048725e-01   2.15122111e+00   3.72956813e-01   8.24908824e-01\n",
      "  -1.66786233e+00   5.61749745e-01  -2.86318926e-01   4.90770133e-01\n",
      "  -1.79841054e+00   3.37581275e-02   2.27458253e+00   1.97686620e+00\n",
      "  -2.26416587e+00   1.10507531e+00  -1.74864091e+00  -1.96029038e-01\n",
      "   1.10780358e-01   2.22198755e+00   1.09451524e+00   1.37819383e+00\n",
      "  -1.54370431e+00   1.20917119e+00  -2.01473092e+00   5.62311501e-01\n",
      "  -4.03282242e+00   4.79634105e-01  -1.08906536e+00  -1.44245447e+00\n",
      "  -1.34264497e+00   2.81477620e+00   5.30899610e-01   2.75625612e-01\n",
      "   1.97033660e+00   1.37393779e+00   7.13581806e-01   4.53741821e-01\n",
      "   9.83094124e-01   9.61396172e-02   9.11873881e-01   7.81467509e-01\n",
      "   6.62820006e-01   1.42911484e-01  -1.21409964e+00   8.80120992e-01\n",
      "   6.19505326e-01  -2.03311857e+00   8.80205557e-01   1.66302170e-01\n",
      "   4.29519014e-01   5.47758961e-01  -1.97397192e+00   6.57229131e-01\n",
      "   2.09084175e-01   5.55292824e-01   1.81477159e-01   7.21659726e-01\n",
      "   8.78010460e-01   8.02850371e-01   1.20317836e+00   1.26093187e+00\n",
      "   5.59527288e-01  -2.65075948e+00   3.50602399e-01  -2.22525731e+00\n",
      "   8.12111526e-01  -2.64616675e+00   9.17003035e-01   5.19822565e-02\n",
      "  -9.47262007e-01  -9.38144979e-01   9.90863074e-01   3.54314764e+00\n",
      "   8.30865010e-02  -2.11666378e+00   1.09379715e+00   6.12585740e-01\n",
      "   6.90715958e-01  -7.33585325e-01  -2.41132544e-01  -2.21988993e+00\n",
      "   1.41246068e+00  -1.02082783e-01   6.15737173e-01  -3.09248555e+00\n",
      "  -8.57543043e-01   8.54806976e-01  -1.91884895e+00  -2.17232496e+00\n",
      "  -4.81871133e-02   3.10305464e-01   1.01730440e+00  -2.10358933e+00\n",
      "   7.28154348e-01   1.27332890e-01  -2.13113851e+00   1.06674225e+00\n",
      "  -2.49136809e+00   1.53666547e+00   9.36975094e-01   2.70223944e+00\n",
      "  -2.63131037e-04   5.02056994e-01   8.27702045e-01  -1.67277565e+00\n",
      "   1.23306980e+00   5.30000239e-01   1.25859901e+00   1.05377933e+00\n",
      "   9.63338503e-01   4.22938813e+00   3.23066517e-01   9.83624174e-01\n",
      "   5.22304772e-01  -1.28552413e+00   1.03966694e+00  -2.50103330e+00\n",
      "   1.68627726e+00  -7.54600982e-01   7.29163830e-01   1.41823095e+00\n",
      "  -1.34440512e+00   4.81091447e-02   1.55411662e+00   7.00509547e-01\n",
      "   1.10797236e+00  -2.30327369e+00   8.68475317e-01   3.40036834e+00\n",
      "   1.94923927e+00  -2.11366114e+00  -2.05557026e+00   2.59109086e+00\n",
      "   2.34398262e+00   5.32350366e-01   1.92442594e-01   7.48063039e-01\n",
      "  -3.05671590e-01  -8.63323646e-01   5.13965225e-02   6.83313649e-01\n",
      "  -2.09898237e+00   5.68617817e-01   4.86581107e-01  -7.56171078e-01\n",
      "   3.89041609e-01   3.63929577e+00   1.17184684e+00  -2.39149849e-01\n",
      "  -7.01701004e-02   5.83360683e-01  -2.97060151e-01   1.00747465e+00\n",
      "   1.10980903e+00   1.24887923e+00   3.85395306e-01   5.85802460e-01\n",
      "   1.16000418e+00   1.00073471e+00  -7.18527031e-01   1.15916093e+00\n",
      "   2.28312234e-01   6.27114824e-01   8.98233354e-01   6.78362190e-01\n",
      "   5.51200608e-01   1.20730194e+00   3.11182627e+00   1.52818374e+00\n",
      "  -1.34186186e-01   1.07723743e+00   7.58714914e-01   1.05053620e+00\n",
      "   7.14254191e-01   9.78169729e-01  -1.38629523e+00   1.60243911e+00\n",
      "   6.00925741e-01   9.48250039e-01   8.69853336e-01   7.77202599e-01\n",
      "   2.10490363e+00   5.95740948e-01  -1.13051393e+00   6.38145360e-01\n",
      "  -1.36634274e-02   9.37459563e-01  -3.48083196e+00   5.63684688e-01\n",
      "   4.60163548e-01  -2.36255636e+00  -2.08501700e+00   1.30081572e+00\n",
      "   7.09362000e-01   1.16873476e+00   4.35373465e-01   4.02969398e-01\n",
      "  -2.95502900e+00   1.25711740e+00  -1.82749618e+00   3.51804489e-01\n",
      "   1.54675721e+00   1.08316664e+00   8.30279027e-01   1.53094631e+00\n",
      "  -1.69194057e+00  -6.71389023e-02   2.25378159e-01   1.94305118e+00\n",
      "   5.86276901e-01   1.43264294e-01   9.64978575e-01   7.09029271e-01\n",
      "   6.19452005e-01   9.03785481e-01   1.66428329e-01   8.69930495e-01\n",
      "   5.08267196e-02   2.19182326e-01   4.38302611e-01  -5.63924637e-01\n",
      "   7.44630849e-01   8.43767711e-01  -1.63825068e+00   7.40882804e-01\n",
      "  -1.47174533e+00   1.18055528e+00   3.29467373e+00  -2.60683422e-01\n",
      "   6.90820769e-01   1.77197967e-01   3.92127875e+00   5.17986366e-01\n",
      "   4.64486360e-01   1.17566807e+00   1.11948805e+00   9.46009943e-01\n",
      "   6.06879417e-01   5.48631384e-01   4.01417161e-01   1.19446954e+00\n",
      "   1.53628409e+00   4.21999555e-01   9.39894366e-02  -2.61502500e+00\n",
      "   1.15010355e+00   1.06797259e+00   9.48452585e-01   2.06165831e+00\n",
      "   7.37038401e-01   1.97453285e-01   9.25709433e-01   5.92741235e-01\n",
      "   4.37856763e-01   1.48652419e+00   6.86067413e-01   4.32855288e-01\n",
      "  -1.24242269e+00  -1.90378798e+00   1.22247761e+00   4.72828690e-01\n",
      "   1.21732455e+00   9.38587669e-01   1.00645351e-01   7.96066243e-01\n",
      "  -1.66303157e+00   8.23501282e-01   1.14749324e-01  -3.67948978e-01\n",
      "   1.47749679e+00   9.46043664e-01  -3.75781355e-01   4.84106595e-01\n",
      "   8.31042523e-01   2.88285019e+00   7.02835227e-01   4.28442622e-01\n",
      "  -1.18525641e-01  -1.91979300e+00  -5.07933687e-01   3.03253661e+00\n",
      "   7.89789711e-01   1.71089296e-01   1.17168187e+00  -7.05324440e-01\n",
      "   1.14203298e-01   3.48078069e+00   6.65872017e-01   2.14481764e-01\n",
      "   7.89859059e-01   1.10467338e+00   5.92853853e-01  -2.35488104e-01\n",
      "   8.33475050e-01   1.06406045e+00   2.40505516e+00   1.44515725e+00\n",
      "   2.99161995e-01   1.02589631e+00   1.54258297e+00   2.53151457e+00\n",
      "   3.05181777e-01   3.54770897e-01  -6.20228049e-01   7.47683652e-01\n",
      "   1.25324814e+00   7.84667783e-01   3.67691594e+00   3.14496918e-01\n",
      "   5.87744094e-01   8.38097165e-01  -3.08342899e-01   9.25766223e-01\n",
      "   9.74152062e-01   1.02005136e+00   1.47074767e+00  -2.25762933e+00\n",
      "   5.64340981e-01  -1.84748728e+00   8.56351868e-01   6.71340478e-01\n",
      "   2.70544908e+00   2.96196628e-01  -1.37380625e+00   5.97097822e-01\n",
      "   2.44556837e+00   4.28529769e-01   5.24398494e-01   4.41838431e-01\n",
      "   1.97562272e+00   7.43211731e-01   1.00865386e+00   5.42531290e-01\n",
      "   3.31383903e+00  -3.17335409e+00   5.86272283e-01   2.25905294e+00\n",
      "   4.22700271e-01   1.00370954e+00  -1.62656318e+00   6.31612642e-01\n",
      "   2.09313524e+00   2.35866761e-01   9.60455615e-01  -2.22529957e+00\n",
      "  -1.96853983e+00   9.71044820e-01   1.07699784e+00   2.29877230e+00\n",
      "  -1.70029233e+00   1.14141025e+00   7.72276818e-01  -3.58392339e-01\n",
      "  -4.36072553e+00  -2.10507366e+00   1.00864864e+00  -1.65778874e+00\n",
      "   9.73455514e-01  -1.59179294e+00   6.25893919e-01  -1.51302788e+00\n",
      "   1.03741529e+00  -7.07416251e-01   1.07465673e+00   5.54942115e-01\n",
      "  -7.53756928e-01   1.64679055e+00   1.68015702e+00   3.99867729e-01\n",
      "  -1.66470146e-01   4.79261188e-01  -1.98683381e+00   7.00314603e-01\n",
      "  -7.03433719e-01  -2.58880377e+00   1.48343473e+00   6.61416348e-01\n",
      "   2.23294049e+00  -2.83820907e+00   2.93337409e+00   2.26339214e+00\n",
      "  -2.20799746e+00   8.46767546e-01   5.02400200e-01   3.99583569e-01\n",
      "  -2.21213217e+00   1.16174367e+00  -4.73810525e-01   1.00777551e+00\n",
      "   1.81580905e-01  -5.43062455e-02  -8.47833622e-01   2.84465774e+00\n",
      "   5.68554525e-01   9.02783178e-01   5.83562725e-01  -1.94377805e+00\n",
      "  -2.15328996e+00  -3.00811038e+00   7.01015890e-01   1.11127092e+00\n",
      "  -3.25637037e+00   7.78680933e-01   1.13324736e-01   1.20964543e+00\n",
      "   3.96494962e-02   1.58038970e+00   1.76762633e-01   8.26738206e-01\n",
      "   2.06380742e+00   1.14833975e+00   1.76767040e-01  -3.06384383e+00\n",
      "   4.26732397e-01   1.34887994e+00   3.60741833e+00  -3.33115984e-02\n",
      "   2.41080287e+00   1.18323970e+00   5.46508944e-01   4.00424134e-01\n",
      "   1.02244400e+00  -2.40234270e+00   8.33473444e-01   1.88468018e+00\n",
      "  -4.91419600e-01   1.80393305e+00   1.90974048e+00  -2.27253058e+00\n",
      "   1.48575126e+00   6.17201314e-01  -1.67027118e-01   4.33232995e-01\n",
      "  -2.21988332e+00   9.04928889e-01   6.46111530e-01  -1.80218685e+00\n",
      "   4.88056711e-01   5.60856241e-01   3.07147780e-01  -1.65782418e+00\n",
      "  -1.78481595e+00  -5.23054971e-01   2.64000796e+00   6.62711786e-01\n",
      "   8.00480683e-03   2.88703126e-02  -3.14037943e+00   6.45784401e-03\n",
      "   1.13474008e+00   2.29895696e-01   1.29866593e+00   2.50918087e+00\n",
      "  -2.69395169e+00   1.35037993e-01  -3.76654757e+00   2.84495070e+00\n",
      "   1.17636098e+00   4.42340506e-01   7.83684716e-01  -1.89049419e+00\n",
      "   1.12531062e+00   1.01554175e+00   9.44232449e-01  -2.52045396e-01\n",
      "   8.02187092e-01   7.81700023e-01]\n"
     ]
    }
   ],
   "source": [
    "best_est = joblib.load('best_est.pkl')\n",
    "m_X_test = get_test_data() # Call the function to get the data\n",
    "a_y = best_est.predict(m_X_test)\n",
    "np.savetxt('comp_testY.dat', a_y, fmt='%.5f')\n",
    "print(\"Written to file 'comp_testY.dat'.\")\n",
    "print(a_y)"
   ]
  },
  {
   "cell_type": "markdown",
   "metadata": {},
   "source": [
    "# References\n",
    "\n",
    "A Kaggle Master Explains Gradient Boosting | No Free Hunch\n",
    "[http://blog.kaggle.com/2017/01/23/a-kaggle-master-explains-gradient-boosting/](http://blog.kaggle.com/2017/01/23/a-kaggle-master-explains-gradient-boosting/)\n",
    "\n",
    "Gradient Boosted Regression Trees\n",
    "https://www.datarobot.com/blog/gradient-boosted-regression-trees/\n",
    "\n"
   ]
  },
  {
   "cell_type": "code",
   "execution_count": null,
   "metadata": {
    "collapsed": true
   },
   "outputs": [],
   "source": []
  }
 ],
 "metadata": {
  "kernelspec": {
   "display_name": "Python 3",
   "language": "python",
   "name": "python3"
  },
  "language_info": {
   "codemirror_mode": {
    "name": "ipython",
    "version": 3
   },
   "file_extension": ".py",
   "mimetype": "text/x-python",
   "name": "python",
   "nbconvert_exporter": "python",
   "pygments_lexer": "ipython3",
   "version": "3.6.3"
  },
  "varInspector": {
   "cols": {
    "lenName": 16,
    "lenType": 16,
    "lenVar": 40
   },
   "kernels_config": {
    "python": {
     "delete_cmd_postfix": "",
     "delete_cmd_prefix": "del ",
     "library": "var_list.py",
     "varRefreshCmd": "print(var_dic_list())"
    },
    "r": {
     "delete_cmd_postfix": ") ",
     "delete_cmd_prefix": "rm(",
     "library": "var_list.r",
     "varRefreshCmd": "cat(var_dic_list()) "
    }
   },
   "types_to_exclude": [
    "module",
    "function",
    "builtin_function_or_method",
    "instance",
    "_Feature"
   ],
   "window_display": false
  }
 },
 "nbformat": 4,
 "nbformat_minor": 2
}
